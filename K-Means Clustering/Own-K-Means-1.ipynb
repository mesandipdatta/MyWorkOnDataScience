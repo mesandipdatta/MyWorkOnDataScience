{
 "cells": [
  {
   "cell_type": "code",
   "execution_count": 2,
   "metadata": {
    "collapsed": false
   },
   "outputs": [],
   "source": [
    "import matplotlib.pyplot as plt\n",
    "import pandas as pd\n",
    "import numpy as np\n",
    "\n",
    "from sklearn import datasets\n",
    "from sklearn import metrics\n",
    "from sklearn.cluster import KMeans\n",
    "\n",
    "%matplotlib inline\n",
    "\n",
    "# ------------------------------------------\n",
    "# Iris dataset\n",
    "# EXERCISE: Compute the centoid of the following data\n",
    "#           [2, 5], [4, 4], [3, 3]\n",
    "# ------------------------------------------\n",
    "d = np.array([[2,5],[4,4],[3,3]])"
   ]
  },
  {
   "cell_type": "code",
   "execution_count": 3,
   "metadata": {
    "collapsed": true
   },
   "outputs": [
    {
     "name": "stdout",
     "output_type": "stream",
     "text": [
      "KMeans(copy_x=True, init='k-means++', max_iter=300, n_clusters=2, n_init=10,\n",
      "    n_jobs=1, precompute_distances='auto', random_state=None, tol=0.0001,\n",
      "    verbose=0)\n",
      "Cluster= 2  and Silhouette = 0.680813620271 Sum Squares= 152.368706477\n",
      "KMeans(copy_x=True, init='k-means++', max_iter=300, n_clusters=3, n_init=10,\n",
      "    n_jobs=1, precompute_distances='auto', random_state=None, tol=0.0001,\n",
      "    verbose=0)\n",
      "Cluster= 3  and Silhouette = 0.552591944521 Sum Squares= 78.9408414261\n",
      "KMeans(copy_x=True, init='k-means++', max_iter=300, n_clusters=4, n_init=10,\n",
      "    n_jobs=1, precompute_distances='auto', random_state=None, tol=0.0001,\n",
      "    verbose=0)\n",
      "Cluster= 4  and Silhouette = 0.497825690075 Sum Squares= 57.3178732143\n",
      "KMeans(copy_x=True, init='k-means++', max_iter=300, n_clusters=5, n_init=10,\n",
      "    n_jobs=1, precompute_distances='auto', random_state=None, tol=0.0001,\n",
      "    verbose=0)\n",
      "Cluster= 5  and Silhouette = 0.488517550854 Sum Squares= 46.5355820513\n",
      "KMeans(copy_x=True, init='k-means++', max_iter=300, n_clusters=6, n_init=10,\n",
      "    n_jobs=1, precompute_distances='auto', random_state=None, tol=0.0001,\n",
      "    verbose=0)\n",
      "Cluster= 6  and Silhouette = 0.369516274589 Sum Squares= 38.964787851\n",
      "KMeans(copy_x=True, init='k-means++', max_iter=300, n_clusters=7, n_init=10,\n",
      "    n_jobs=1, precompute_distances='auto', random_state=None, tol=0.0001,\n",
      "    verbose=0)\n",
      "Cluster= 7  and Silhouette = 0.360233369039 Sum Squares= 34.3111675899\n",
      "KMeans(copy_x=True, init='k-means++', max_iter=300, n_clusters=8, n_init=10,\n",
      "    n_jobs=1, precompute_distances='auto', random_state=None, tol=0.0001,\n",
      "    verbose=0)\n",
      "Cluster= 8  and Silhouette = 0.365164535737 Sum Squares= 29.954086421\n",
      "KMeans(copy_x=True, init='k-means++', max_iter=300, n_clusters=9, n_init=10,\n",
      "    n_jobs=1, precompute_distances='auto', random_state=None, tol=0.0001,\n",
      "    verbose=0)\n",
      "Cluster= 9  and Silhouette = 0.32883150318 Sum Squares= 27.9926357394\n",
      "KMeans(copy_x=True, init='k-means++', max_iter=300, n_clusters=10, n_init=10,\n",
      "    n_jobs=1, precompute_distances='auto', random_state=None, tol=0.0001,\n",
      "    verbose=0)\n",
      "Cluster= 10  and Silhouette = 0.329749539947 Sum Squares= 25.9683068364\n",
      "KMeans(copy_x=True, init='k-means++', max_iter=300, n_clusters=11, n_init=10,\n",
      "    n_jobs=1, precompute_distances='auto', random_state=None, tol=0.0001,\n",
      "    verbose=0)\n",
      "Cluster= 11  and Silhouette = 0.265084246653 Sum Squares= 25.252603821\n",
      "KMeans(copy_x=True, init='k-means++', max_iter=300, n_clusters=12, n_init=10,\n",
      "    n_jobs=1, precompute_distances='auto', random_state=None, tol=0.0001,\n",
      "    verbose=0)\n",
      "Cluster= 12  and Silhouette = 0.294014431216 Sum Squares= 23.249636118\n",
      "KMeans(copy_x=True, init='k-means++', max_iter=300, n_clusters=13, n_init=10,\n",
      "    n_jobs=1, precompute_distances='auto', random_state=None, tol=0.0001,\n",
      "    verbose=0)\n",
      "Cluster= 13  and Silhouette = 0.299586731845 Sum Squares= 21.7058797898\n",
      "KMeans(copy_x=True, init='k-means++', max_iter=300, n_clusters=14, n_init=10,\n",
      "    n_jobs=1, precompute_distances='auto', random_state=None, tol=0.0001,\n",
      "    verbose=0)\n",
      "Cluster= 14  and Silhouette = 0.289146944176 Sum Squares= 20.3373737374\n"
     ]
    }
   ],
   "source": [
    "# Import iris data\n",
    "iris = datasets.load_iris()\n",
    "d = iris.data\n",
    "\n",
    "# Cluster no. range\n",
    "t_all = range(2,15)\n",
    "\n",
    "\n",
    "for t in t_all:\n",
    "    est = KMeans(n_clusters=t)\n",
    "    kmeans_model = est.fit(d)\n",
    "    # Model Performance - Option 1: Silhouette Coefficient\n",
    "    s = metrics.silhouette_score(d,kmeans_model.labels_,metric='euclidean')\n",
    "    \n",
    "    # Model Performance - Option 2: Cost function - Sum of squares\n",
    "    sum_square = est.inertia_\n",
    "    print kmeans_model\n",
    "    print \"Cluster=\",t,\" and Silhouette =\",s,\"Sum Squares=\",sum_square\n",
    "    \n"
   ]
  }
 ],
 "metadata": {
  "kernelspec": {
   "display_name": "Python 2",
   "language": "python",
   "name": "python2"
  },
  "language_info": {
   "codemirror_mode": {
    "name": "ipython",
    "version": 2
   },
   "file_extension": ".py",
   "mimetype": "text/x-python",
   "name": "python",
   "nbconvert_exporter": "python",
   "pygments_lexer": "ipython2",
   "version": "2.7.10"
  }
 },
 "nbformat": 4,
 "nbformat_minor": 0
}
