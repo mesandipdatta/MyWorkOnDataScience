{
 "cells": [
  {
   "cell_type": "markdown",
   "metadata": {
    "collapsed": true
   },
   "source": [
    "# SMS - Spam Detection\n",
    "Identifying spam messages from various sms"
   ]
  },
  {
   "cell_type": "code",
   "execution_count": 127,
   "metadata": {
    "collapsed": true
   },
   "outputs": [],
   "source": [
    "import numpy as np\n",
    "import pandas as pd\n",
    "import matplotlib.pyplot as plt\n"
   ]
  },
  {
   "cell_type": "code",
   "execution_count": 128,
   "metadata": {
    "collapsed": true
   },
   "outputs": [],
   "source": [
    "from sklearn.feature_extraction.text import TfidfVectorizer\n",
    "from sklearn.linear_model.logistic import LogisticRegression\n",
    "from sklearn.cross_validation import train_test_split,cross_val_score\n",
    "from sklearn.metrics import roc_auc_score, roc_curve, auc"
   ]
  },
  {
   "cell_type": "raw",
   "metadata": {},
   "source": [
    "# Data Format - its a tab delimited text file\n",
    "ham\tGo until jurong point, crazy.. Available only in bugis n great world la e buffet... Cine there got amore wat...\n",
    "ham\tOk lar... Joking wif u oni...\n",
    "spam\tFree entry in 2 a wkly comp to win FA Cup final tkts 21st May 2005"
   ]
  },
  {
   "cell_type": "code",
   "execution_count": 129,
   "metadata": {
    "collapsed": false
   },
   "outputs": [
    {
     "data": {
      "text/html": [
       "<div>\n",
       "<table border=\"1\" class=\"dataframe\">\n",
       "  <thead>\n",
       "    <tr style=\"text-align: right;\">\n",
       "      <th></th>\n",
       "      <th>Type</th>\n",
       "      <th>Message</th>\n",
       "    </tr>\n",
       "  </thead>\n",
       "  <tbody>\n",
       "    <tr>\n",
       "      <th>0</th>\n",
       "      <td>ham</td>\n",
       "      <td>Go until jurong point, crazy.. Available only ...</td>\n",
       "    </tr>\n",
       "    <tr>\n",
       "      <th>1</th>\n",
       "      <td>ham</td>\n",
       "      <td>Ok lar... Joking wif u oni...</td>\n",
       "    </tr>\n",
       "    <tr>\n",
       "      <th>2</th>\n",
       "      <td>spam</td>\n",
       "      <td>Free entry in 2 a wkly comp to win FA Cup fina...</td>\n",
       "    </tr>\n",
       "    <tr>\n",
       "      <th>3</th>\n",
       "      <td>ham</td>\n",
       "      <td>U dun say so early hor... U c already then say...</td>\n",
       "    </tr>\n",
       "    <tr>\n",
       "      <th>4</th>\n",
       "      <td>ham</td>\n",
       "      <td>Nah I don't think he goes to usf, he lives aro...</td>\n",
       "    </tr>\n",
       "    <tr>\n",
       "      <th>5</th>\n",
       "      <td>spam</td>\n",
       "      <td>FreeMsg Hey there darling it's been 3 week's n...</td>\n",
       "    </tr>\n",
       "  </tbody>\n",
       "</table>\n",
       "</div>"
      ],
      "text/plain": [
       "   Type                                            Message\n",
       "0   ham  Go until jurong point, crazy.. Available only ...\n",
       "1   ham                      Ok lar... Joking wif u oni...\n",
       "2  spam  Free entry in 2 a wkly comp to win FA Cup fina...\n",
       "3   ham  U dun say so early hor... U c already then say...\n",
       "4   ham  Nah I don't think he goes to usf, he lives aro...\n",
       "5  spam  FreeMsg Hey there darling it's been 3 week's n..."
      ]
     },
     "execution_count": 129,
     "metadata": {},
     "output_type": "execute_result"
    }
   ],
   "source": [
    "#df = pd.read_table('SMSSpamCollection',\n",
    "#df.head(6)\n",
    "\n",
    "data = pd.read_csv('SMSSpamCollection', sep='\\t',names=['Type','Message'])\n",
    "data.head(6)\n",
    "\n",
    "#pd.get_dummies(data['Type'])\n",
    "\n",
    "#data.head(6)"
   ]
  },
  {
   "cell_type": "code",
   "execution_count": 130,
   "metadata": {
    "collapsed": false
   },
   "outputs": [],
   "source": [
    "# Split the data into Train & Test\n",
    "X_train_raw, X_test_raw, y_train,y_test = train_test_split(data['Message'],data['Type'])"
   ]
  },
  {
   "cell_type": "code",
   "execution_count": 131,
   "metadata": {
    "collapsed": false
   },
   "outputs": [],
   "source": [
    "# Vectorize the data\n",
    "\n",
    "vectorizer = TfidfVectorizer()\n",
    "\n",
    "X_train = vectorizer.fit_transform(X_train_raw)\n",
    "\n",
    "X_test = vectorizer.transform(X_test_raw)"
   ]
  },
  {
   "cell_type": "code",
   "execution_count": 132,
   "metadata": {
    "collapsed": false
   },
   "outputs": [
    {
     "data": {
      "text/plain": [
       "(4179, 7505)"
      ]
     },
     "execution_count": 132,
     "metadata": {},
     "output_type": "execute_result"
    }
   ],
   "source": [
    "X_train.shape"
   ]
  },
  {
   "cell_type": "code",
   "execution_count": 133,
   "metadata": {
    "collapsed": false
   },
   "outputs": [
    {
     "data": {
      "text/plain": [
       "(1393, 7505)"
      ]
     },
     "execution_count": 133,
     "metadata": {},
     "output_type": "execute_result"
    }
   ],
   "source": [
    "X_test.shape"
   ]
  },
  {
   "cell_type": "code",
   "execution_count": null,
   "metadata": {
    "collapsed": true
   },
   "outputs": [],
   "source": []
  },
  {
   "cell_type": "code",
   "execution_count": 134,
   "metadata": {
    "collapsed": false
   },
   "outputs": [
    {
     "data": {
      "text/plain": [
       "array(['ham', 'spam'], dtype=object)"
      ]
     },
     "execution_count": 134,
     "metadata": {},
     "output_type": "execute_result"
    }
   ],
   "source": [
    "classifier = LogisticRegression()\n",
    "classifier.fit(X_train,y_train)\n",
    "\n",
    "classifier.classes_\n"
   ]
  },
  {
   "cell_type": "code",
   "execution_count": 135,
   "metadata": {
    "collapsed": false
   },
   "outputs": [
    {
     "data": {
      "text/plain": [
       "array([[ 0.96095883,  0.03904117],\n",
       "       [ 0.97658212,  0.02341788],\n",
       "       [ 0.98332911,  0.01667089],\n",
       "       ..., \n",
       "       [ 0.86561977,  0.13438023],\n",
       "       [ 0.25251322,  0.74748678],\n",
       "       [ 0.97120773,  0.02879227]])"
      ]
     },
     "execution_count": 135,
     "metadata": {},
     "output_type": "execute_result"
    }
   ],
   "source": [
    "predictions = classifier.predict_proba(X_test)\n",
    "\n",
    "predictions\n",
    "\n",
    "# Interpretation of 'prediction' result - ex [ 0.93939494,  0.06060506]\n",
    "# Reference -  classifier.classes_ GIVES ['ham','spam']\n",
    "# 93% probability this is a \"ham\" sms. 6% probability this is a \"spam\" sms."
   ]
  },
  {
   "cell_type": "code",
   "execution_count": 136,
   "metadata": {
    "collapsed": false
   },
   "outputs": [
    {
     "data": {
      "text/plain": [
       "array([ 0.03904117,  0.02341788,  0.01667089, ...,  0.13438023,\n",
       "        0.74748678,  0.02879227])"
      ]
     },
     "execution_count": 136,
     "metadata": {},
     "output_type": "execute_result"
    }
   ],
   "source": [
    "predictions[:, 1]"
   ]
  },
  {
   "cell_type": "code",
   "execution_count": 137,
   "metadata": {
    "collapsed": false,
    "scrolled": true
   },
   "outputs": [
    {
     "data": {
      "text/plain": [
       "2277                         Love you aathi..love u lot..\n",
       "2709                              Nah, I'm a perpetual DD\n",
       "4919    Sitting in mu waiting for everyone to get out ...\n",
       "450                                     10 min later k...\n",
       "738     Hi. Customer Loyalty Offer:The NEW Nokia6650 M...\n",
       "2280                    Sorry, I'll call later in meeting\n",
       "Name: Message, dtype: object"
      ]
     },
     "execution_count": 137,
     "metadata": {},
     "output_type": "execute_result"
    }
   ],
   "source": [
    "X_test_raw.tail(6)"
   ]
  },
  {
   "cell_type": "code",
   "execution_count": 138,
   "metadata": {
    "collapsed": false
   },
   "outputs": [
    {
     "name": "stdout",
     "output_type": "stream",
     "text": [
      "[  0.00000000e+00   0.00000000e+00   0.00000000e+00   0.00000000e+00\n",
      "   0.00000000e+00   0.00000000e+00   0.00000000e+00   0.00000000e+00\n",
      "   0.00000000e+00   0.00000000e+00   8.27814570e-04   8.27814570e-04\n",
      "   8.27814570e-04   8.27814570e-04   8.27814570e-04   8.27814570e-04\n",
      "   8.27814570e-04   8.27814570e-04   8.27814570e-04   8.27814570e-04\n",
      "   8.27814570e-04   8.27814570e-04   8.27814570e-04   8.27814570e-04\n",
      "   1.65562914e-03   1.65562914e-03   1.65562914e-03   3.31125828e-03\n",
      "   3.31125828e-03   5.79470199e-03   5.79470199e-03   6.62251656e-03\n",
      "   6.62251656e-03   7.45033113e-03   7.45033113e-03   9.93377483e-03\n",
      "   9.93377483e-03   1.15894040e-02   1.32450331e-02   1.40728477e-02\n",
      "   1.40728477e-02   1.57284768e-02   1.57284768e-02   1.65562914e-02\n",
      "   1.65562914e-02   1.82119205e-02   1.82119205e-02   2.31788079e-02\n",
      "   2.48344371e-02   2.64900662e-02   2.64900662e-02   3.47682119e-02\n",
      "   3.47682119e-02   4.47019868e-02   4.63576159e-02   1.05132450e-01\n",
      "   1.08443709e-01   1.10927152e-01   1.10927152e-01   1.16721854e-01\n",
      "   1.16721854e-01   1.25000000e-01   1.25000000e-01   1.58112583e-01\n",
      "   1.58112583e-01   1.65562914e-01   1.67218543e-01   1.68046358e-01\n",
      "   1.72185430e-01   2.06125828e-01   2.06125828e-01   2.33443709e-01\n",
      "   2.35099338e-01   3.03807947e-01   3.06291391e-01   3.60927152e-01\n",
      "   3.63410596e-01   4.13907285e-01   4.15562914e-01   4.23841060e-01\n",
      "   4.31291391e-01   4.69370861e-01   4.71026490e-01   5.00827815e-01\n",
      "   5.02483444e-01   5.04139073e-01   5.04139073e-01   5.52152318e-01\n",
      "   5.53807947e-01   5.66225166e-01   5.67880795e-01   6.08443709e-01\n",
      "   6.10099338e-01   6.33278146e-01   6.34933775e-01   6.77980132e-01\n",
      "   6.79635762e-01   6.83774834e-01   6.85430464e-01   6.92052980e-01\n",
      "   6.93708609e-01   6.94536424e-01   6.96192053e-01   7.54139073e-01\n",
      "   7.55794702e-01   9.18046358e-01   9.22185430e-01   9.90894040e-01\n",
      "   9.92549669e-01   1.00000000e+00]\n",
      "[ 0.00540541  0.10810811  0.11891892  0.20540541  0.21621622  0.2972973\n",
      "  0.30810811  0.34054054  0.35135135  0.43783784  0.43783784  0.47027027\n",
      "  0.48108108  0.51351351  0.52432432  0.53513514  0.54594595  0.58378378\n",
      "  0.60540541  0.67027027  0.68108108  0.71351351  0.72432432  0.78918919\n",
      "  0.78918919  0.8         0.81081081  0.81081081  0.85945946  0.85945946\n",
      "  0.8972973   0.8972973   0.90810811  0.90810811  0.91891892  0.91891892\n",
      "  0.92972973  0.92972973  0.92972973  0.92972973  0.93513514  0.93513514\n",
      "  0.94054054  0.94054054  0.94594595  0.94594595  0.95135135  0.95135135\n",
      "  0.95135135  0.95135135  0.96216216  0.96216216  0.96756757  0.96756757\n",
      "  0.96756757  0.96756757  0.96756757  0.96756757  0.97297297  0.97297297\n",
      "  0.97837838  0.97837838  0.98378378  0.98378378  0.98918919  0.98918919\n",
      "  0.98918919  0.98918919  0.98918919  0.98918919  0.99459459  0.99459459\n",
      "  0.99459459  0.99459459  0.99459459  0.99459459  0.99459459  0.99459459\n",
      "  0.99459459  0.99459459  0.99459459  0.99459459  0.99459459  0.99459459\n",
      "  0.99459459  0.99459459  1.          1.          1.          1.          1.\n",
      "  1.          1.          1.          1.          1.          1.          1.\n",
      "  1.          1.          1.          1.          1.          1.          1.\n",
      "  1.          1.          1.          1.          1.        ]\n",
      "[ 0.97772206  0.87807133  0.87665515  0.82918226  0.82269445  0.79051678\n",
      "  0.78905073  0.77775478  0.77765716  0.74366521  0.74253006  0.72696542\n",
      "  0.72380283  0.70442989  0.70233258  0.69945332  0.69740111  0.6838283\n",
      "  0.66651567  0.62248233  0.62187675  0.60538778  0.59973372  0.51155996\n",
      "  0.50507877  0.49713766  0.48270115  0.47878405  0.38738439  0.36588249\n",
      "  0.34251062  0.34175565  0.33716243  0.33055616  0.32287479  0.31022175\n",
      "  0.29805212  0.27860786  0.26128405  0.26069991  0.25865984  0.23874592\n",
      "  0.23312802  0.2292958   0.22702448  0.21945096  0.21621977  0.18908561\n",
      "  0.18898026  0.18666162  0.18299155  0.16347585  0.15815333  0.14148782\n",
      "  0.14103048  0.09843521  0.09784776  0.09701893  0.09689203  0.09535071\n",
      "  0.09535021  0.09150401  0.09119723  0.08307848  0.08284639  0.08122687\n",
      "  0.08111507  0.08106366  0.08101064  0.07630106  0.07615221  0.07154772\n",
      "  0.07142154  0.06175121  0.06171175  0.05601886  0.05597181  0.05110521\n",
      "  0.05100191  0.05009904  0.05008854  0.04643912  0.04637519  0.04363055\n",
      "  0.0435742   0.04355113  0.04341396  0.04034026  0.04031064  0.03964114\n",
      "  0.03962883  0.03729428  0.03726192  0.03549048  0.03542009  0.03245374\n",
      "  0.03240881  0.03211856  0.03200356  0.03148473  0.03138969  0.03128495\n",
      "  0.03121761  0.02782142  0.02779853  0.01735785  0.01727844  0.00936769\n",
      "  0.00926206  0.0043121 ]\n"
     ]
    }
   ],
   "source": [
    "# Note we are checking for 'spam' detection\n",
    "\n",
    "false_positive_rate, recall, thresholds = roc_curve(y_test,predictions[:, 1],pos_label='spam')\n",
    "\n",
    "# If we would have looked for \"ham\" detection , we would have framed as below\n",
    "\n",
    "# false_positive_rate, recall, thresholds = roc_curve(y_test,predictions[1,:] ,pos_label='ham')\n",
    "print false_positive_rate\n",
    "print recall\n",
    "print thresholds"
   ]
  },
  {
   "cell_type": "code",
   "execution_count": 139,
   "metadata": {
    "collapsed": true
   },
   "outputs": [],
   "source": [
    "roc_auc = auc(false_positive_rate, recall)"
   ]
  },
  {
   "cell_type": "code",
   "execution_count": null,
   "metadata": {
    "collapsed": false
   },
   "outputs": [],
   "source": []
  },
  {
   "cell_type": "code",
   "execution_count": 140,
   "metadata": {
    "collapsed": false
   },
   "outputs": [
    {
     "data": {
      "image/png": "[encoded data removed]",
      "text/plain": [
       "<matplotlib.figure.Figure at 0xf9e8c88>"
      ]
     },
     "metadata": {},
     "output_type": "display_data"
    }
   ],
   "source": [
    "plt.title('Receiver Operating Characteristic')\n",
    "plt.plot(false_positive_rate, recall, 'g', label='AUC = %0.2f' % roc_auc)\n",
    "plt.legend(loc='lower right')\n",
    "plt.plot([0, 1], [0, 1], 'r--')\n",
    "plt.xlim([0.0, 1.0])\n",
    "plt.ylim([0.0, 1.0])\n",
    "plt.ylabel('Recall')\n",
    "plt.xlabel('Fall-out')\n",
    "plt.show()"
   ]
  }
 ],
 "metadata": {
  "anaconda-cloud": {},
  "kernelspec": {
   "display_name": "Python [conda root]",
   "language": "python",
   "name": "conda-root-py"
  },
  "language_info": {
   "codemirror_mode": {
    "name": "ipython",
    "version": 2
   },
   "file_extension": ".py",
   "mimetype": "text/x-python",
   "name": "python",
   "nbconvert_exporter": "python",
   "pygments_lexer": "ipython2",
   "version": "2.7.12"
  }
 },
 "nbformat": 4,
 "nbformat_minor": 1
}
