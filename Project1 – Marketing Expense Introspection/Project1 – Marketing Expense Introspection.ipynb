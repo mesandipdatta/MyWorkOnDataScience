{
 "cells": [
  {
   "cell_type": "markdown",
   "metadata": {},
   "source": [
    "# Project1 – Marketing Expense Introspection"
   ]
  },
  {
   "cell_type": "code",
   "execution_count": null,
   "metadata": {
    "collapsed": true
   },
   "outputs": [],
   "source": [
    "# Author - Sandip Datta\n",
    "# Nov - 2016"
   ]
  },
  {
   "cell_type": "markdown",
   "metadata": {},
   "source": [
    "Project - 1\n",
    "\n",
    "One of the product major wanted to launch new product and predict it’s sale. It wants to find out the marketing expenses that it needs across various medium (Tv , radio, newspaper , social media etc.) and the corresponing sale value.\n",
    "We gather the past marketing expenses for existing products . And build a ML model out of it. This model can be used to predict the sale value when different Marketing expenses are used as input .\n",
    "Data \n",
    "\n",
    "C:\\Users\\dattas6\\Desktop\\Sandip\\Sandip\\Technical - Datasets\\Advertising.csv"
   ]
  },
  {
   "cell_type": "code",
   "execution_count": null,
   "metadata": {
    "collapsed": true
   },
   "outputs": [],
   "source": []
  },
  {
   "cell_type": "markdown",
   "metadata": {},
   "source": [
    "# Raw Data Sample "
   ]
  },
  {
   "cell_type": "raw",
   "metadata": {
    "collapsed": true,
    "raw_mimetype": "text/html"
   },
   "source": [
    "\tTV\t   Radio\tNewspaper\tSales\n",
    "1\t230.1\t37.8\t69.2\t22.1\n",
    "2\t44.5\t39.3\t45.1\t10.4\n",
    "3\t17.2\t45.9\t69.3\t9.3\n",
    "4\t151.5\t41.3\t58.5\t18.5\n",
    "5\t180.8\t10.8\t58.4\t12.9\n",
    "6\t8.7 \t48.9\t75\t    7.2\n"
   ]
  },
  {
   "cell_type": "code",
   "execution_count": 1,
   "metadata": {
    "collapsed": false
   },
   "outputs": [],
   "source": [
    "\n",
    "import pandas as pd\n",
    "import numpy as np\n",
    "import matplotlib.pyplot as plt\n",
    "\n",
    "\n",
    "%matplotlib inline"
   ]
  },
  {
   "cell_type": "code",
   "execution_count": 2,
   "metadata": {
    "collapsed": true
   },
   "outputs": [],
   "source": [
    "# Declare Misc Variables\n",
    "colors = np.array(['r','g'])\n",
    "\n",
    "Model_comparison = []"
   ]
  },
  {
   "cell_type": "code",
   "execution_count": 3,
   "metadata": {
    "collapsed": false
   },
   "outputs": [
    {
     "data": {
      "text/html": [
       "<div>\n",
       "<table border=\"1\" class=\"dataframe\">\n",
       "  <thead>\n",
       "    <tr style=\"text-align: right;\">\n",
       "      <th></th>\n",
       "      <th>Unnamed: 0</th>\n",
       "      <th>TV</th>\n",
       "      <th>Radio</th>\n",
       "      <th>Newspaper</th>\n",
       "      <th>Sales</th>\n",
       "    </tr>\n",
       "  </thead>\n",
       "  <tbody>\n",
       "    <tr>\n",
       "      <th>0</th>\n",
       "      <td>1</td>\n",
       "      <td>230.1</td>\n",
       "      <td>37.8</td>\n",
       "      <td>69.2</td>\n",
       "      <td>22.1</td>\n",
       "    </tr>\n",
       "    <tr>\n",
       "      <th>1</th>\n",
       "      <td>2</td>\n",
       "      <td>44.5</td>\n",
       "      <td>39.3</td>\n",
       "      <td>45.1</td>\n",
       "      <td>10.4</td>\n",
       "    </tr>\n",
       "    <tr>\n",
       "      <th>2</th>\n",
       "      <td>3</td>\n",
       "      <td>17.2</td>\n",
       "      <td>45.9</td>\n",
       "      <td>69.3</td>\n",
       "      <td>9.3</td>\n",
       "    </tr>\n",
       "  </tbody>\n",
       "</table>\n",
       "</div>"
      ],
      "text/plain": [
       "   Unnamed: 0     TV  Radio  Newspaper  Sales\n",
       "0           1  230.1   37.8       69.2   22.1\n",
       "1           2   44.5   39.3       45.1   10.4\n",
       "2           3   17.2   45.9       69.3    9.3"
      ]
     },
     "execution_count": 3,
     "metadata": {},
     "output_type": "execute_result"
    }
   ],
   "source": [
    "# Get the Data first\n",
    "\n",
    "data = pd.read_csv(\"Advertising.csv\")\n",
    "data.head(3)"
   ]
  },
  {
   "cell_type": "code",
   "execution_count": 4,
   "metadata": {
    "collapsed": false
   },
   "outputs": [
    {
     "data": {
      "text/html": [
       "<div>\n",
       "<table border=\"1\" class=\"dataframe\">\n",
       "  <thead>\n",
       "    <tr style=\"text-align: right;\">\n",
       "      <th></th>\n",
       "      <th>TV</th>\n",
       "      <th>Radio</th>\n",
       "      <th>Newspaper</th>\n",
       "    </tr>\n",
       "  </thead>\n",
       "  <tbody>\n",
       "    <tr>\n",
       "      <th>0</th>\n",
       "      <td>230.1</td>\n",
       "      <td>37.8</td>\n",
       "      <td>69.2</td>\n",
       "    </tr>\n",
       "    <tr>\n",
       "      <th>1</th>\n",
       "      <td>44.5</td>\n",
       "      <td>39.3</td>\n",
       "      <td>45.1</td>\n",
       "    </tr>\n",
       "    <tr>\n",
       "      <th>2</th>\n",
       "      <td>17.2</td>\n",
       "      <td>45.9</td>\n",
       "      <td>69.3</td>\n",
       "    </tr>\n",
       "  </tbody>\n",
       "</table>\n",
       "</div>"
      ],
      "text/plain": [
       "      TV  Radio  Newspaper\n",
       "0  230.1   37.8       69.2\n",
       "1   44.5   39.3       45.1\n",
       "2   17.2   45.9       69.3"
      ]
     },
     "execution_count": 4,
     "metadata": {},
     "output_type": "execute_result"
    }
   ],
   "source": [
    "# Feature Selection\n",
    "# Slice the Independent variable & Dependent variable column data\n",
    "\n",
    "data_X = data[['TV','Radio','Newspaper']]\n",
    "\n",
    "data_Y = data['Sales']\n",
    "data_T = data['TV']\n",
    "data_R = data['Radio']\n",
    "data_N = data['Newspaper']\n",
    "data_X.head(3)"
   ]
  },
  {
   "cell_type": "code",
   "execution_count": 5,
   "metadata": {
    "collapsed": false,
    "scrolled": true
   },
   "outputs": [],
   "source": [
    "#data_Y.head(3)"
   ]
  },
  {
   "cell_type": "code",
   "execution_count": 6,
   "metadata": {
    "collapsed": false
   },
   "outputs": [
    {
     "data": {
      "text/plain": [
       "<matplotlib.text.Text at 0xa2cef98>"
      ]
     },
     "execution_count": 6,
     "metadata": {},
     "output_type": "execute_result"
    },
    {
     "data": {
      "image/png": "[encoded data removed]",
      "text/plain": [
       "<matplotlib.figure.Figure at 0x7bf29b0>"
      ]
     },
     "metadata": {},
     "output_type": "display_data"
    }
   ],
   "source": [
    "# Plot Marketing Medium viz. TV , Radio , Newspaper vs Sales correlation\n",
    "\n",
    "\n",
    "plt.figure(figsize=(10,10))\n",
    "\n",
    "\n",
    "# Tv vs Sales\n",
    "plt.subplot(221)\n",
    "plt.scatter(data_T.values,data_Y.values,c=colors)\n",
    "plt.xlabel(\"Tv Marketing Expense\")\n",
    "plt.ylabel(\"Sale values\")\n",
    "\n",
    "\n",
    "# Radio vs Sales\n",
    "plt.subplot(222)\n",
    "plt.scatter(data_R.values,data_Y.values,c=colors)\n",
    "plt.xlabel(\"Radio Marketing Expense\")\n",
    "plt.ylabel(\"Sale values\")\n",
    "\n",
    "\n",
    "# Newspaper vs Sales\n",
    "plt.subplot(223)\n",
    "plt.scatter(data_N.values,data_Y.values,c=colors)\n",
    "plt.xlabel(\"Newspaper Marketing Expense\")\n",
    "plt.ylabel(\"Sale values\")\n",
    "\n"
   ]
  },
  {
   "cell_type": "code",
   "execution_count": 7,
   "metadata": {
    "collapsed": false
   },
   "outputs": [
    {
     "data": {
      "text/plain": [
       "<matplotlib.text.Text at 0xa5be7f0>"
      ]
     },
     "execution_count": 7,
     "metadata": {},
     "output_type": "execute_result"
    },
    {
     "data": {
      "image/png": "[encoded data removed]",
      "text/plain": [
       "<matplotlib.figure.Figure at 0x85d1048>"
      ]
     },
     "metadata": {},
     "output_type": "display_data"
    }
   ],
   "source": [
    "plt.plot(data_T.values,data_Y.values)\n",
    "plt.xlabel(\"Tv Marketing Expense\")\n",
    "plt.ylabel(\"Sale values\")"
   ]
  },
  {
   "cell_type": "markdown",
   "metadata": {},
   "source": [
    "# Technique 1 - Train\\Test Split"
   ]
  },
  {
   "cell_type": "code",
   "execution_count": 8,
   "metadata": {
    "collapsed": true
   },
   "outputs": [],
   "source": [
    "# Preparartion for ML\n",
    "\n",
    "'''\n",
    "Feature Selection\n",
    "data_X = data[['TV','Radio','Newspaper']]\n",
    "data_Y = data['Sales']\n",
    "'''\n",
    "data_features = ['TV','Radio','Newspaper']\n",
    "\n",
    "# Split data into Train & Test data \n",
    "# default split is 75% for training and 25% for testing\n",
    "\n",
    "from sklearn.cross_validation import train_test_split\n",
    "X_train, X_test, y_train, y_test = train_test_split(data_X, data_Y, random_state=1)"
   ]
  },
  {
   "cell_type": "code",
   "execution_count": 9,
   "metadata": {
    "collapsed": false
   },
   "outputs": [
    {
     "name": "stdout",
     "output_type": "stream",
     "text": [
      "(150, 3)\n",
      "(150L,)\n",
      "(50, 3)\n",
      "(50L,)\n"
     ]
    }
   ],
   "source": [
    "print(X_train.shape)\n",
    "print(y_train.shape)\n",
    "print(X_test.shape)\n",
    "print(y_test.shape)"
   ]
  },
  {
   "cell_type": "markdown",
   "metadata": {},
   "source": [
    "# Linear Regression"
   ]
  },
  {
   "cell_type": "code",
   "execution_count": 10,
   "metadata": {
    "collapsed": false
   },
   "outputs": [
    {
     "data": {
      "text/plain": [
       "LinearRegression(copy_X=True, fit_intercept=True, n_jobs=1, normalize=False)"
      ]
     },
     "execution_count": 10,
     "metadata": {},
     "output_type": "execute_result"
    }
   ],
   "source": [
    "from sklearn.linear_model import LinearRegression\n",
    "\n",
    "linreg = LinearRegression()\n",
    "\n",
    "# Fit the model\n",
    "linreg.fit(X_train,y_train)\n"
   ]
  },
  {
   "cell_type": "markdown",
   "metadata": {},
   "source": [
    "# Linear Regression Results"
   ]
  },
  {
   "cell_type": "code",
   "execution_count": 11,
   "metadata": {
    "collapsed": false
   },
   "outputs": [
    {
     "name": "stdout",
     "output_type": "stream",
     "text": [
      "2.87696662232\n",
      "[ 0.04656457  0.17915812  0.00345046]\n"
     ]
    },
    {
     "data": {
      "text/plain": [
       "[('TV', 0.046564567874150281),\n",
       " ('Radio', 0.17915812245088858),\n",
       " ('Newspaper', 0.0034504647111804209)]"
      ]
     },
     "execution_count": 11,
     "metadata": {},
     "output_type": "execute_result"
    }
   ],
   "source": [
    "\n",
    "# Post Fit - Linear Reg model parameters\n",
    "print(linreg.intercept_)\n",
    "# 2.87696662232\n",
    "print(linreg.coef_)\n",
    "#[ 0.04656457  0.17915812  0.00345046]\n",
    "# y = 2.88 + 0.047x1 + 0.179x2 + 0.003x3\n",
    "\n",
    "\n",
    "# pair the feature names with the coefficients\n",
    "list(zip(data_features, linreg.coef_))\n"
   ]
  },
  {
   "cell_type": "markdown",
   "metadata": {},
   "source": [
    "# Make Prediction from Test dataset"
   ]
  },
  {
   "cell_type": "code",
   "execution_count": 12,
   "metadata": {
    "collapsed": true
   },
   "outputs": [],
   "source": [
    "y_pred = linreg.predict(X_test)"
   ]
  },
  {
   "cell_type": "markdown",
   "metadata": {},
   "source": [
    "# Linear Regression Evaluation"
   ]
  },
  {
   "cell_type": "code",
   "execution_count": 13,
   "metadata": {
    "collapsed": false
   },
   "outputs": [
    {
     "name": "stdout",
     "output_type": "stream",
     "text": [
      "R-Squared error = 0.915621361379\n",
      "RMSE = 1.97304562023\n",
      "r2_score = 0.915621361379\n"
     ]
    }
   ],
   "source": [
    "from sklearn import metrics\n",
    "\n",
    "# Eval 1 - R-Squared error\n",
    "# Estimator score method: Estimators have a score method providing a default evaluation criterion for the \n",
    "# problem they are designed to solve.\n",
    "R_Squared_error = linreg.score(X_test,y_test)\n",
    "print \"R-Squared error =\",R_Squared_error\n",
    "\n",
    "# Eval2 - RMSE \n",
    "RMSE = metrics.mean_squared_error(y_test,y_pred)\n",
    "print \"RMSE =\",RMSE\n",
    "\n",
    "\n",
    "# Eval3 - r2-score\n",
    "r2_score = metrics.r2_score(y_test,y_pred)\n",
    "print \"r2_score =\",r2_score"
   ]
  },
  {
   "cell_type": "markdown",
   "metadata": {},
   "source": [
    "# Store the Linear Reg Model evaluation"
   ]
  },
  {
   "cell_type": "code",
   "execution_count": 14,
   "metadata": {
    "collapsed": false
   },
   "outputs": [],
   "source": [
    "linRegModel = []\n",
    "linRegModel.append(\"Linear Regression\")\n",
    "linRegModel.append(r2_score)\n",
    "linRegModel.append(RMSE)\n",
    "Model_comparison.append(linRegModel)"
   ]
  },
  {
   "cell_type": "code",
   "execution_count": null,
   "metadata": {
    "collapsed": false
   },
   "outputs": [],
   "source": []
  },
  {
   "cell_type": "markdown",
   "metadata": {},
   "source": [
    "# Ridge Regression"
   ]
  },
  {
   "cell_type": "code",
   "execution_count": 15,
   "metadata": {
    "collapsed": true
   },
   "outputs": [],
   "source": [
    "from sklearn.linear_model import Ridge\n",
    "\n",
    "ridgeReg = Ridge(alpha=.1)\n",
    "\n",
    "ridgeReg.fit(X_train,y_train)\n",
    "\n",
    "y_pred_ridge = ridgeReg.predict(X_test)"
   ]
  },
  {
   "cell_type": "markdown",
   "metadata": {},
   "source": [
    "# Ridge Regression Evaluation"
   ]
  },
  {
   "cell_type": "code",
   "execution_count": 16,
   "metadata": {
    "collapsed": false
   },
   "outputs": [
    {
     "name": "stdout",
     "output_type": "stream",
     "text": [
      "R-Squared error = 0.91562097462\n",
      "RMSE = 1.97305466391\n",
      "r2_score = 0.91562097462\n"
     ]
    }
   ],
   "source": [
    "# Eval 1 - R-Squared error\n",
    "# Estimator score method: Estimators have a score method providing a default evaluation criterion for the \n",
    "# problem they are designed to solve.\n",
    "R_Squared_error = ridgeReg.score(X_test,y_test)\n",
    "print \"R-Squared error =\",R_Squared_error\n",
    "\n",
    "# Eval2 - RMSE \n",
    "RMSE = metrics.mean_squared_error(y_test,y_pred_ridge)\n",
    "print \"RMSE =\",RMSE\n",
    "\n",
    "\n",
    "# Eval3 - r2-score\n",
    "r2_score = metrics.r2_score(y_test,y_pred_ridge)\n",
    "print \"r2_score =\",r2_score"
   ]
  },
  {
   "cell_type": "markdown",
   "metadata": {},
   "source": [
    "# Store Ridge Reg Evaluation"
   ]
  },
  {
   "cell_type": "code",
   "execution_count": 17,
   "metadata": {
    "collapsed": true
   },
   "outputs": [],
   "source": [
    "ridgeRegModel = []\n",
    "ridgeRegModel.append(\"Ridge Regression\")\n",
    "ridgeRegModel.append(r2_score)\n",
    "ridgeRegModel.append(RMSE)\n",
    "Model_comparison.append(ridgeRegModel)"
   ]
  },
  {
   "cell_type": "code",
   "execution_count": 18,
   "metadata": {
    "collapsed": false
   },
   "outputs": [
    {
     "data": {
      "text/plain": [
       "[['Linear Regression', 0.91562136137922334, 1.9730456202283355],\n",
       " ['Ridge Regression', 0.91562097461984226, 1.9730546639142177]]"
      ]
     },
     "execution_count": 18,
     "metadata": {},
     "output_type": "execute_result"
    }
   ],
   "source": [
    "Model_comparison"
   ]
  },
  {
   "cell_type": "code",
   "execution_count": null,
   "metadata": {
    "collapsed": true
   },
   "outputs": [],
   "source": []
  },
  {
   "cell_type": "markdown",
   "metadata": {},
   "source": [
    "# SGD - Stochastic Gradient Descent"
   ]
  },
  {
   "cell_type": "code",
   "execution_count": 19,
   "metadata": {
    "collapsed": false
   },
   "outputs": [],
   "source": [
    "from sklearn.linear_model import SGDRegressor\n",
    "\n",
    "sgdReg = SGDRegressor()\n",
    "\n",
    "sgdReg.fit(X_train, y_train)\n",
    "\n",
    "y_pred_sgdReg = sgdReg.predict(X_test)"
   ]
  },
  {
   "cell_type": "markdown",
   "metadata": {},
   "source": [
    "# SGD - Stochastic Gradient Descent Evaluation"
   ]
  },
  {
   "cell_type": "code",
   "execution_count": 20,
   "metadata": {
    "collapsed": false
   },
   "outputs": [
    {
     "name": "stdout",
     "output_type": "stream",
     "text": [
      "R-Squared error = -7.00772642475e+25\n",
      "RMSE = 1.63863320813e+27\n",
      "r2_score = -7.00772642475e+25\n"
     ]
    }
   ],
   "source": [
    "# Eval 1 - R-Squared error\n",
    "# Estimator score method: Estimators have a score method providing a default evaluation criterion for the \n",
    "# problem they are designed to solve.\n",
    "R_Squared_error = sgdReg.score(X_test,y_test)\n",
    "print \"R-Squared error =\",R_Squared_error\n",
    "\n",
    "# Eval2 - RMSE \n",
    "RMSE = metrics.mean_squared_error(y_test,y_pred_sgdReg)\n",
    "print \"RMSE =\",RMSE\n",
    "\n",
    "\n",
    "# Eval3 - r2-score\n",
    "r2_score = metrics.r2_score(y_test,y_pred_sgdReg)\n",
    "print \"r2_score =\",r2_score"
   ]
  },
  {
   "cell_type": "markdown",
   "metadata": {},
   "source": [
    "# Store SGD Reg Evaluation"
   ]
  },
  {
   "cell_type": "code",
   "execution_count": 21,
   "metadata": {
    "collapsed": true
   },
   "outputs": [],
   "source": [
    "sgdRegModel = []\n",
    "sgdRegModel.append(\"SGD Regression\")\n",
    "sgdRegModel.append(-r2_score)\n",
    "sgdRegModel.append(RMSE)\n",
    "Model_comparison.append(sgdRegModel)"
   ]
  },
  {
   "cell_type": "code",
   "execution_count": null,
   "metadata": {
    "collapsed": false
   },
   "outputs": [],
   "source": []
  },
  {
   "cell_type": "markdown",
   "metadata": {},
   "source": [
    "# Technique 2 - Cross Validation"
   ]
  },
  {
   "cell_type": "markdown",
   "metadata": {},
   "source": [
    "# 10 Fold Cross Validation - Linear Regression"
   ]
  },
  {
   "cell_type": "code",
   "execution_count": 22,
   "metadata": {
    "collapsed": false
   },
   "outputs": [],
   "source": [
    "# Data Preparation\n",
    "\n",
    "data = pd.read_csv(\"Advertising.csv\")\n",
    "data_X = data[['TV','Radio','Newspaper']]\n",
    "\n",
    "data_Y = data['Sales']\n",
    "data_T = data['TV']\n",
    "data_R = data['Radio']\n",
    "data_N = data['Newspaper']\n"
   ]
  },
  {
   "cell_type": "code",
   "execution_count": 23,
   "metadata": {
    "collapsed": false
   },
   "outputs": [
    {
     "name": "stdout",
     "output_type": "stream",
     "text": [
      "[ 3.56038438  3.29767522  2.08943356  2.82474283  1.3027754   1.74163618\n",
      "  8.17338214  2.11409746  3.04273109  2.45281793]\n"
     ]
    }
   ],
   "source": [
    "\n",
    "from sklearn.linear_model import LinearRegression\n",
    "\n",
    "linRegCV = LinearRegression()\n",
    "\n",
    "from sklearn.cross_validation import cross_val_score\n",
    "\n",
    "CrossValScore_mse = cross_val_score(linRegCV,data_X,data_Y,cv=10,scoring='mean_squared_error')\n",
    "\n",
    "# fix the sign of MSE scores\n",
    "CrossValScore_mse_positive = -CrossValScore_mse\n",
    "print(CrossValScore_mse_positive)\n",
    "# convert from MSE to RMSE\n",
    "RMSE = np.sqrt(CrossValScore_mse_positive)\n",
    "# calculate the average RMSE\n",
    "RMSE_mean = RMSE.mean()\n",
    "\n",
    "\n",
    "r2_score = cross_val_score(linRegCV,data_X,data_Y,cv=10,scoring='r2')\n",
    "#r2_score = -r2_score\n",
    "r2_score_mean = r2_score.mean()"
   ]
  },
  {
   "cell_type": "markdown",
   "metadata": {
    "collapsed": true
   },
   "source": [
    "# Store 10-Fold Cross Val Evaluation"
   ]
  },
  {
   "cell_type": "code",
   "execution_count": 24,
   "metadata": {
    "collapsed": false
   },
   "outputs": [],
   "source": [
    "linRegCVModel = []\n",
    "linRegCVModel.append(\"10 CV Linear Regression\")\n",
    "linRegCVModel.append(r2_score_mean)\n",
    "linRegCVModel.append(RMSE_mean)\n",
    "Model_comparison.append(linRegCVModel)\n"
   ]
  },
  {
   "cell_type": "code",
   "execution_count": null,
   "metadata": {
    "collapsed": true
   },
   "outputs": [],
   "source": []
  },
  {
   "cell_type": "markdown",
   "metadata": {},
   "source": [
    "# All Model Comparison"
   ]
  },
  {
   "cell_type": "code",
   "execution_count": 25,
   "metadata": {
    "collapsed": false
   },
   "outputs": [
    {
     "name": "stdout",
     "output_type": "stream",
     "text": [
      "('Model name', 'r2 score', 'RMSE')\n"
     ]
    },
    {
     "data": {
      "text/plain": [
       "[['Linear Regression', 0.91562136137922334, 1.9730456202283355],\n",
       " ['Ridge Regression', 0.91562097461984226, 1.9730546639142177],\n",
       " ['SGD Regression', 7.0077264247527312e+25, 1.6386332081342939e+27],\n",
       " ['10 CV Linear Regression', 0.88535622379796164, 1.6913531708051797]]"
      ]
     },
     "execution_count": 25,
     "metadata": {},
     "output_type": "execute_result"
    }
   ],
   "source": [
    "print (\"Model name\",\"r2 score\",\"RMSE\"\"\")\n",
    "Model_comparison"
   ]
  },
  {
   "cell_type": "markdown",
   "metadata": {
    "collapsed": true
   },
   "source": [
    "# Marketing Expense vs Sale in Future"
   ]
  },
  {
   "cell_type": "raw",
   "metadata": {},
   "source": [
    "# Management wants to spend below figures in marketing and wants to see\\forecast sales\n",
    "\n",
    "TV  Radio Newspaper\n",
    "20  40     50\n",
    "67  78     90"
   ]
  },
  {
   "cell_type": "code",
   "execution_count": 26,
   "metadata": {
    "collapsed": false
   },
   "outputs": [
    {
     "data": {
      "text/plain": [
       "array([ 11.14710611,  20.28166805])"
      ]
     },
     "execution_count": 26,
     "metadata": {},
     "output_type": "execute_result"
    }
   ],
   "source": [
    "\n",
    "exp = [[20,40,50],[67,78,90]]\n",
    "\n",
    "sale_pred = linreg.predict(exp)\n",
    "sale_pred"
   ]
  },
  {
   "cell_type": "code",
   "execution_count": null,
   "metadata": {
    "collapsed": true
   },
   "outputs": [],
   "source": []
  },
  {
   "cell_type": "code",
   "execution_count": null,
   "metadata": {
    "collapsed": true
   },
   "outputs": [],
   "source": []
  }
 ],
 "metadata": {
  "celltoolbar": "Raw Cell Format",
  "kernelspec": {
   "display_name": "Python 2",
   "language": "python",
   "name": "python2"
  },
  "language_info": {
   "codemirror_mode": {
    "name": "ipython",
    "version": 2
   },
   "file_extension": ".py",
   "mimetype": "text/x-python",
   "name": "python",
   "nbconvert_exporter": "python",
   "pygments_lexer": "ipython2",
   "version": "2.7.10"
  }
 },
 "nbformat": 4,
 "nbformat_minor": 0
}
