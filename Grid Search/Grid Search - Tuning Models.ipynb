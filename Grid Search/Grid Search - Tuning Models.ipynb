{
 "cells": [
  {
   "cell_type": "markdown",
   "metadata": {},
   "source": [
    "# Grid Search - Run as a Script .py file\n",
    "\n",
    "Tuning models using Grid search\n",
    "\n",
    "Please note - \n",
    "Note that fit() must be called in a Python main block in\n",
    "order to fork additional processes; this example must be executed as a script, and not\n",
    "in an interactive interpreter:"
   ]
  },
  {
   "cell_type": "code",
   "execution_count": 2,
   "metadata": {
    "collapsed": true
   },
   "outputs": [],
   "source": [
    "import pandas as pd\n",
    "from sklearn.feature_extraction.text import TfidfVectorizer\n",
    "from sklearn.linear_model.logistic import LogisticRegression\n",
    "from sklearn.grid_search import GridSearchCV\n",
    "from sklearn.pipeline import Pipeline\n",
    "from sklearn.cross_validation import train_test_split\n",
    "from sklearn.metrics import precision_score , recall_score , accuracy_score"
   ]
  },
  {
   "cell_type": "code",
   "execution_count": 3,
   "metadata": {
    "collapsed": false
   },
   "outputs": [],
   "source": [
    "pipeline = Pipeline([\n",
    "        ('vect',TfidfVectorizer(stop_words='english')),\n",
    "        ('clf', LogisticRegression())\n",
    "    ])"
   ]
  },
  {
   "cell_type": "code",
   "execution_count": null,
   "metadata": {
    "collapsed": true
   },
   "outputs": [],
   "source": [
    "parameters = {\n",
    "    'vect__max_df': (0.25, 0.5, 0.75),\n",
    "    'vect__stop_words': ('english',None),\n",
    "    'vect__max_features': (2500, 5000, 10000, None),\n",
    "    'vect__ngram_range': ((1, 1), (1, 2)),\n",
    "    'vect__use_idf': (True, False),\n",
    "    'vect__norm': ('l1', 'l2'),\n",
    "    'clf__penalty': ('l1', 'l2'),\n",
    "    'clf__C': (0.01, 0.1, 1, 10),\n",
    "}"
   ]
  },
  {
   "cell_type": "code",
   "execution_count": null,
   "metadata": {
    "collapsed": true
   },
   "outputs": [],
   "source": [
    "if __name__ == \"__main__\":\n",
    "\t\n",
    "\tgrid_search = GridSearchCV(pipeline, parameters, n_jobs=-1, verbose=1, scoring='accuracy', cv=3)\n",
    "    \n",
    "\tdata = pd.read_csv('SMSSpamCollection', sep='\\t',names=['label','message'])\n",
    "    \n",
    "\tX = data['message']\n",
    "\ty = data['label']\n",
    "    \n",
    "\tX_train, X_test, y_train, y_test = train_test_split(X, y)\n",
    "    \n",
    "\tgrid_search.fit(X_train, y_train)\n",
    "    \n",
    "\tprint 'Best score: %0.3f' % grid_search.best_score_\n",
    "\tprint 'Best parameters set:'\n",
    "    \n",
    "\tbest_parameters = grid_search.best_estimator_.get_params()\n",
    "    \n",
    "\tfor param_name in sorted(parameters.keys()):\n",
    "\t\tprint '\\t%s: %r' % (param_name, best_parameters[param_name])\n",
    "    \n",
    "\tpredictions = grid_search.predict(X_test)\n",
    "    \n",
    "\tprint 'Accuracy:', accuracy_score(y_test, predictions)\n",
    "\tprint 'Precision:', precision_score(y_test, predictions,pos_label='spam')\n",
    "\tprint 'Recall:', recall_score(y_test, predictions,pos_label='spam')"
   ]
  },
  {
   "cell_type": "code",
   "execution_count": null,
   "metadata": {
    "collapsed": true
   },
   "outputs": [],
   "source": [
    "# Results after running the above code piece as a Script\n",
    "\n",
    "Fitting 3 folds for each of 1536 candidates, totalling 4608 fits\n",
    "[Parallel(n_jobs=-1)]: Done  34 tasks      | elapsed:    2.9s\n",
    "[Parallel(n_jobs=-1)]: Done 184 tasks      | elapsed:   11.6s\n",
    "[Parallel(n_jobs=-1)]: Done 434 tasks      | elapsed:   24.9s\n",
    "[Parallel(n_jobs=-1)]: Done 784 tasks      | elapsed:   58.1s\n",
    "[Parallel(n_jobs=-1)]: Done 1234 tasks      | elapsed:  1.9min\n",
    "[Parallel(n_jobs=-1)]: Done 1784 tasks      | elapsed:  2.5min\n",
    "[Parallel(n_jobs=-1)]: Done 2434 tasks      | elapsed:  4.2min\n",
    "[Parallel(n_jobs=-1)]: Done 3184 tasks      | elapsed:  5.3min\n",
    "[Parallel(n_jobs=-1)]: Done 4034 tasks      | elapsed:  8.3min\n",
    "[Parallel(n_jobs=-1)]: Done 4608 out of 4608 | elapsed:  9.9min finished\n",
    "Best score: 0.984\n",
    "Best parameters set:\n",
    "        clf__C: 10\n",
    "        clf__penalty: 'l2'\n",
    "        vect__max_df: 0.5\n",
    "        vect__max_features: 10000\n",
    "        vect__ngram_range: (1, 2)\n",
    "        vect__norm: 'l2'\n",
    "        vect__stop_words: None\n",
    "        vect__use_idf: True\n",
    "Accuracy: 0.987078248385\n",
    "Precision: 0.994011976048\n",
    "Recall: 0.907103825137"
   ]
  }
 ],
 "metadata": {
  "anaconda-cloud": {},
  "kernelspec": {
   "display_name": "Python [conda root]",
   "language": "python",
   "name": "conda-root-py"
  },
  "language_info": {
   "codemirror_mode": {
    "name": "ipython",
    "version": 2
   },
   "file_extension": ".py",
   "mimetype": "text/x-python",
   "name": "python",
   "nbconvert_exporter": "python",
   "pygments_lexer": "ipython2",
   "version": "2.7.12"
  }
 },
 "nbformat": 4,
 "nbformat_minor": 1
}
