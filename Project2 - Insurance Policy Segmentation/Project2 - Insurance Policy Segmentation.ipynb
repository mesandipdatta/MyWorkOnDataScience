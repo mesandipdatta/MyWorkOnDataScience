{
 "cells": [
  {
   "cell_type": "code",
   "execution_count": 1,
   "metadata": {
    "collapsed": true
   },
   "outputs": [],
   "source": [
    "# Author - Sandip Datta\n",
    "# Nov - 2016"
   ]
  },
  {
   "cell_type": "markdown",
   "metadata": {},
   "source": [
    "# Project2 - Policy Segmentation - Clustering States on Insurance Policy Face Amounts"
   ]
  },
  {
   "cell_type": "markdown",
   "metadata": {},
   "source": [
    "# Policy Segmentation \n",
    "Cluster States with Highest\\Medium\\Least Face Amounts of various types of Insurance policies\n",
    "\tInput is – Incurred Insurance policy amount for different types of Insurance policy categories in different states in US. \n",
    "\tWith Machine Learning cluster them into different groups based on based on amount incurred \n"
   ]
  },
  {
   "cell_type": "markdown",
   "metadata": {},
   "source": [
    "# Meta Data - \n",
    "STATE \t\n",
    "National Service Life Insurance\t\n",
    "Service-Disabled Veterans' Insurance\t\n",
    "United States Government Life Insurance\t\n",
    "Veterans' Mortgage Life Insurance\t\n",
    "Veterans' Reopened Insurance\t\n",
    "Veterans' Special Life Insurance\t\n",
    "Total"
   ]
  },
  {
   "cell_type": "raw",
   "metadata": {},
   "source": [
    "# Sample Data -\n",
    "\n",
    "Alabama\n",
    "107,706,116 \t\n",
    "58,178,149 \t\n",
    "86,000 \t\n",
    "3,117,592 \t\n",
    "2,893,710 \t\n",
    "23,641,639 \t\n",
    "195,623,206 \n"
   ]
  },
  {
   "cell_type": "code",
   "execution_count": 34,
   "metadata": {
    "collapsed": true
   },
   "outputs": [],
   "source": [
    "import pandas as pd\n",
    "import numpy as np\n",
    "import matplotlib.pyplot as plt\n",
    "\n",
    "%matplotlib inline"
   ]
  },
  {
   "cell_type": "code",
   "execution_count": 35,
   "metadata": {
    "collapsed": false
   },
   "outputs": [
    {
     "data": {
      "text/html": [
       "<div>\n",
       "<table border=\"1\" class=\"dataframe\">\n",
       "  <thead>\n",
       "    <tr style=\"text-align: right;\">\n",
       "      <th></th>\n",
       "      <th>STATE</th>\n",
       "      <th>NationalServiceLifeInsurance</th>\n",
       "      <th>Service-DisabledVeteransInsurance</th>\n",
       "      <th>UnitedStatesGovernmentLifeInsurance</th>\n",
       "      <th>VeteransMortgageLifeInsurance</th>\n",
       "      <th>VeteransReopenedInsurance</th>\n",
       "      <th>VeteransSpecialLifeInsurance</th>\n",
       "      <th>Total</th>\n",
       "    </tr>\n",
       "  </thead>\n",
       "  <tbody>\n",
       "    <tr>\n",
       "      <th>0</th>\n",
       "      <td>Alabama</td>\n",
       "      <td>107,706,116.00</td>\n",
       "      <td>58,178,149.00</td>\n",
       "      <td>86,000.00</td>\n",
       "      <td>3,117,592.00</td>\n",
       "      <td>2,893,710.00</td>\n",
       "      <td>23,641,639.00</td>\n",
       "      <td>195,623,206.00</td>\n",
       "    </tr>\n",
       "    <tr>\n",
       "      <th>1</th>\n",
       "      <td>Alaska</td>\n",
       "      <td>11,580,784.00</td>\n",
       "      <td>4,529,500.00</td>\n",
       "      <td>6,000.00</td>\n",
       "      <td>180,000.00</td>\n",
       "      <td>202,746.00</td>\n",
       "      <td>2,734,900.00</td>\n",
       "      <td>19,233,930.00</td>\n",
       "    </tr>\n",
       "    <tr>\n",
       "      <th>2</th>\n",
       "      <td>American Samoa</td>\n",
       "      <td>5,000.00</td>\n",
       "      <td>1,190,000.00</td>\n",
       "      <td></td>\n",
       "      <td></td>\n",
       "      <td></td>\n",
       "      <td>43,375.00</td>\n",
       "      <td>1,238,375.00</td>\n",
       "    </tr>\n",
       "  </tbody>\n",
       "</table>\n",
       "</div>"
      ],
      "text/plain": [
       "            STATE NationalServiceLifeInsurance  \\\n",
       "0         Alabama               107,706,116.00   \n",
       "1          Alaska                11,580,784.00   \n",
       "2  American Samoa                     5,000.00   \n",
       "\n",
       "  Service-DisabledVeteransInsurance UnitedStatesGovernmentLifeInsurance  \\\n",
       "0                     58,178,149.00                           86,000.00   \n",
       "1                      4,529,500.00                            6,000.00   \n",
       "2                      1,190,000.00                                       \n",
       "\n",
       "  VeteransMortgageLifeInsurance VeteransReopenedInsurance  \\\n",
       "0                  3,117,592.00              2,893,710.00   \n",
       "1                    180,000.00                202,746.00   \n",
       "2                                                           \n",
       "\n",
       "  VeteransSpecialLifeInsurance           Total  \n",
       "0                23,641,639.00  195,623,206.00  \n",
       "1                 2,734,900.00   19,233,930.00  \n",
       "2                    43,375.00    1,238,375.00  "
      ]
     },
     "execution_count": 35,
     "metadata": {},
     "output_type": "execute_result"
    }
   ],
   "source": [
    "\n",
    "data = pd.read_csv('Face_Amount_by_Program_by_State_August_2011.csv',\n",
    "                  dtype={'STATE': str,\n",
    "                           'NationalServiceLifeInsurance':str,\n",
    "                           'ServiceDisabledVeteransInsurance':str,\n",
    "                           'UnitedStatesGovernmentLifeInsurance':str,\n",
    "                           'VeteransMortgageLifeInsurance':str,\n",
    "                           'VeteransReopenedInsurance':str,\n",
    "                           'VeteransSpecialLifeInsurance':str,\n",
    "                           'Total':str                          \n",
    "                          }\n",
    "                  )\n",
    "\n",
    "data.head(3)"
   ]
  },
  {
   "cell_type": "code",
   "execution_count": null,
   "metadata": {
    "collapsed": true
   },
   "outputs": [],
   "source": []
  },
  {
   "cell_type": "markdown",
   "metadata": {},
   "source": [
    "# Data Inspection"
   ]
  },
  {
   "cell_type": "raw",
   "metadata": {},
   "source": [
    "# This piece of data needs some treatment - \n"
   ]
  },
  {
   "cell_type": "code",
   "execution_count": 36,
   "metadata": {
    "collapsed": false
   },
   "outputs": [],
   "source": [
    "#feature_cols = [\"NSLI\",\"SDVI\",\"USGLI\",\"VMLI\",\"VRI\",\"VSLI\",\"Total\"]\n",
    "#data.rename(columns={\"National Service Life Insurance\":\"NSLI\"})"
   ]
  },
  {
   "cell_type": "code",
   "execution_count": 37,
   "metadata": {
    "collapsed": false
   },
   "outputs": [],
   "source": [
    "#data.info()"
   ]
  },
  {
   "cell_type": "code",
   "execution_count": 38,
   "metadata": {
    "collapsed": false
   },
   "outputs": [],
   "source": [
    "#data.dtypes"
   ]
  },
  {
   "cell_type": "code",
   "execution_count": 39,
   "metadata": {
    "collapsed": false
   },
   "outputs": [],
   "source": [
    "#data.describe()"
   ]
  },
  {
   "cell_type": "code",
   "execution_count": 40,
   "metadata": {
    "collapsed": false
   },
   "outputs": [
    {
     "data": {
      "text/html": [
       "<div>\n",
       "<table border=\"1\" class=\"dataframe\">\n",
       "  <thead>\n",
       "    <tr style=\"text-align: right;\">\n",
       "      <th></th>\n",
       "      <th>STATE</th>\n",
       "      <th>NationalServiceLifeInsurance</th>\n",
       "      <th>Service-DisabledVeteransInsurance</th>\n",
       "      <th>UnitedStatesGovernmentLifeInsurance</th>\n",
       "      <th>VeteransMortgageLifeInsurance</th>\n",
       "      <th>VeteransReopenedInsurance</th>\n",
       "      <th>VeteransSpecialLifeInsurance</th>\n",
       "      <th>Total</th>\n",
       "    </tr>\n",
       "  </thead>\n",
       "  <tbody>\n",
       "    <tr>\n",
       "      <th>0</th>\n",
       "      <td>Alabama</td>\n",
       "      <td>107,706,116.00</td>\n",
       "      <td>58,178,149.00</td>\n",
       "      <td>86,000.00</td>\n",
       "      <td>3,117,592.00</td>\n",
       "      <td>2,893,710.00</td>\n",
       "      <td>23,641,639.00</td>\n",
       "      <td>195,623,206.00</td>\n",
       "    </tr>\n",
       "    <tr>\n",
       "      <th>1</th>\n",
       "      <td>Alaska</td>\n",
       "      <td>11,580,784.00</td>\n",
       "      <td>4,529,500.00</td>\n",
       "      <td>6,000.00</td>\n",
       "      <td>180,000.00</td>\n",
       "      <td>202,746.00</td>\n",
       "      <td>2,734,900.00</td>\n",
       "      <td>19,233,930.00</td>\n",
       "    </tr>\n",
       "  </tbody>\n",
       "</table>\n",
       "</div>"
      ],
      "text/plain": [
       "     STATE NationalServiceLifeInsurance Service-DisabledVeteransInsurance  \\\n",
       "0  Alabama               107,706,116.00                     58,178,149.00   \n",
       "1   Alaska                11,580,784.00                      4,529,500.00   \n",
       "\n",
       "  UnitedStatesGovernmentLifeInsurance VeteransMortgageLifeInsurance  \\\n",
       "0                           86,000.00                  3,117,592.00   \n",
       "1                            6,000.00                    180,000.00   \n",
       "\n",
       "  VeteransReopenedInsurance VeteransSpecialLifeInsurance           Total  \n",
       "0              2,893,710.00                23,641,639.00  195,623,206.00  \n",
       "1                202,746.00                 2,734,900.00   19,233,930.00  "
      ]
     },
     "execution_count": 40,
     "metadata": {},
     "output_type": "execute_result"
    }
   ],
   "source": [
    "data.head(2)"
   ]
  },
  {
   "cell_type": "code",
   "execution_count": null,
   "metadata": {
    "collapsed": true
   },
   "outputs": [],
   "source": []
  },
  {
   "cell_type": "markdown",
   "metadata": {},
   "source": [
    "# Data Handling\\Correction"
   ]
  },
  {
   "cell_type": "code",
   "execution_count": 41,
   "metadata": {
    "collapsed": false
   },
   "outputs": [
    {
     "data": {
      "text/html": [
       "<div>\n",
       "<table border=\"1\" class=\"dataframe\">\n",
       "  <thead>\n",
       "    <tr style=\"text-align: right;\">\n",
       "      <th></th>\n",
       "      <th>STATE</th>\n",
       "      <th>NationalServiceLifeInsurance</th>\n",
       "      <th>Service-DisabledVeteransInsurance</th>\n",
       "      <th>UnitedStatesGovernmentLifeInsurance</th>\n",
       "      <th>VeteransMortgageLifeInsurance</th>\n",
       "      <th>VeteransReopenedInsurance</th>\n",
       "      <th>VeteransSpecialLifeInsurance</th>\n",
       "      <th>Total</th>\n",
       "    </tr>\n",
       "  </thead>\n",
       "  <tbody>\n",
       "    <tr>\n",
       "      <th>0</th>\n",
       "      <td>Alabama</td>\n",
       "      <td>107706116</td>\n",
       "      <td>58178149</td>\n",
       "      <td>86000</td>\n",
       "      <td>3117592</td>\n",
       "      <td>2893710</td>\n",
       "      <td>23641639</td>\n",
       "      <td>195623206</td>\n",
       "    </tr>\n",
       "    <tr>\n",
       "      <th>1</th>\n",
       "      <td>Alaska</td>\n",
       "      <td>11580784</td>\n",
       "      <td>4529500</td>\n",
       "      <td>6000</td>\n",
       "      <td>180000</td>\n",
       "      <td>202746</td>\n",
       "      <td>2734900</td>\n",
       "      <td>19233930</td>\n",
       "    </tr>\n",
       "  </tbody>\n",
       "</table>\n",
       "</div>"
      ],
      "text/plain": [
       "     STATE NationalServiceLifeInsurance Service-DisabledVeteransInsurance  \\\n",
       "0  Alabama                    107706116                          58178149   \n",
       "1   Alaska                     11580784                           4529500   \n",
       "\n",
       "  UnitedStatesGovernmentLifeInsurance VeteransMortgageLifeInsurance  \\\n",
       "0                               86000                       3117592   \n",
       "1                                6000                        180000   \n",
       "\n",
       "  VeteransReopenedInsurance VeteransSpecialLifeInsurance      Total  \n",
       "0                   2893710                     23641639  195623206  \n",
       "1                    202746                      2734900   19233930  "
      ]
     },
     "execution_count": 41,
     "metadata": {},
     "output_type": "execute_result"
    }
   ],
   "source": [
    "# Replace all field having value as spaces with Zeros\n",
    "# Change Blank columns to 0\n",
    "data = data.replace(r'\\s\\s\\s+',0,regex=True)\n",
    "\n",
    "# Change - 89,000.00 to 89000.00\n",
    "data = data.replace(r'\\,','',regex=True)\n",
    "\n",
    "# Change - 89000.00 to 89000\n",
    "data = data.replace(r'\\.00','',regex=True)\n",
    "\n",
    "data.head(2)"
   ]
  },
  {
   "cell_type": "code",
   "execution_count": 42,
   "metadata": {
    "collapsed": false
   },
   "outputs": [
    {
     "data": {
      "text/html": [
       "<div>\n",
       "<table border=\"1\" class=\"dataframe\">\n",
       "  <thead>\n",
       "    <tr style=\"text-align: right;\">\n",
       "      <th></th>\n",
       "      <th>STATE</th>\n",
       "      <th>NationalServiceLifeInsurance</th>\n",
       "      <th>Service-DisabledVeteransInsurance</th>\n",
       "      <th>UnitedStatesGovernmentLifeInsurance</th>\n",
       "      <th>VeteransMortgageLifeInsurance</th>\n",
       "      <th>VeteransReopenedInsurance</th>\n",
       "      <th>VeteransSpecialLifeInsurance</th>\n",
       "    </tr>\n",
       "  </thead>\n",
       "  <tbody>\n",
       "    <tr>\n",
       "      <th>0</th>\n",
       "      <td>Alabama</td>\n",
       "      <td>107706116</td>\n",
       "      <td>58178149</td>\n",
       "      <td>86000</td>\n",
       "      <td>3117592</td>\n",
       "      <td>2893710</td>\n",
       "      <td>23641639</td>\n",
       "    </tr>\n",
       "    <tr>\n",
       "      <th>1</th>\n",
       "      <td>Alaska</td>\n",
       "      <td>11580784</td>\n",
       "      <td>4529500</td>\n",
       "      <td>6000</td>\n",
       "      <td>180000</td>\n",
       "      <td>202746</td>\n",
       "      <td>2734900</td>\n",
       "    </tr>\n",
       "  </tbody>\n",
       "</table>\n",
       "</div>"
      ],
      "text/plain": [
       "     STATE NationalServiceLifeInsurance Service-DisabledVeteransInsurance  \\\n",
       "0  Alabama                    107706116                          58178149   \n",
       "1   Alaska                     11580784                           4529500   \n",
       "\n",
       "  UnitedStatesGovernmentLifeInsurance VeteransMortgageLifeInsurance  \\\n",
       "0                               86000                       3117592   \n",
       "1                                6000                        180000   \n",
       "\n",
       "  VeteransReopenedInsurance VeteransSpecialLifeInsurance  \n",
       "0                   2893710                     23641639  \n",
       "1                    202746                      2734900  "
      ]
     },
     "execution_count": 42,
     "metadata": {},
     "output_type": "execute_result"
    }
   ],
   "source": [
    "# remove \"Total\" column . It contains total of each row values.\n",
    "data_X = data.drop('Total',axis=1)\n",
    "\n",
    "# remove the last row - \"Total\". This row contains total of individual columns.\n",
    "data_X = data_X.drop(58,axis=0)\n",
    "\n",
    "data_X.head(2)"
   ]
  },
  {
   "cell_type": "code",
   "execution_count": 43,
   "metadata": {
    "collapsed": false
   },
   "outputs": [],
   "source": [
    "X = data_X[['NationalServiceLifeInsurance','Service-DisabledVeteransInsurance',\n",
    "            'UnitedStatesGovernmentLifeInsurance','VeteransMortgageLifeInsurance',\n",
    "            'VeteransReopenedInsurance','VeteransSpecialLifeInsurance'\n",
    "           ]]\n",
    "#X_state = data_X['STATE']"
   ]
  },
  {
   "cell_type": "code",
   "execution_count": null,
   "metadata": {
    "collapsed": false
   },
   "outputs": [],
   "source": []
  },
  {
   "cell_type": "markdown",
   "metadata": {
    "collapsed": false
   },
   "source": [
    "# K-Means Clustering"
   ]
  },
  {
   "cell_type": "code",
   "execution_count": 44,
   "metadata": {
    "collapsed": false
   },
   "outputs": [],
   "source": [
    "# K-Means Clustering \n",
    "from sklearn.cluster import KMeans\n",
    "from sklearn import metrics\n",
    "\n",
    "\n",
    "# We will verify our model against a range of clusters - [2 - 10].\n",
    "# To decide optimal no of clusters i.e. k value\n",
    "k_values = range(2,20,1)\n",
    "\n",
    "sil_score_all = []\n",
    "\n",
    "for k in k_values: \n",
    "    kmeansModel = KMeans(n_clusters=k)\n",
    "    kmeansModel.fit(X)\n",
    "    \n",
    "    # Silhoutte coefficient\n",
    "    sil_score = metrics.silhouette_score(X,kmeansModel.labels_,metric='euclidean')\n",
    "    sil_score_all.append(sil_score)\n",
    "    "
   ]
  },
  {
   "cell_type": "code",
   "execution_count": 45,
   "metadata": {
    "collapsed": false
   },
   "outputs": [
    {
     "data": {
      "text/plain": [
       "<matplotlib.text.Text at 0x10b16780>"
      ]
     },
     "execution_count": 45,
     "metadata": {},
     "output_type": "execute_result"
    },
    {
     "data": {
      "image/png": "[encoded data removed]",
      "text/plain": [
       "<matplotlib.figure.Figure at 0xd3be6d8>"
      ]
     },
     "metadata": {},
     "output_type": "display_data"
    }
   ],
   "source": [
    "plt.plot(k_values,sil_score_all)\n",
    "plt.xlabel(\"K-values\")\n",
    "plt.ylabel(\"Silhouette Score\")"
   ]
  },
  {
   "cell_type": "code",
   "execution_count": 46,
   "metadata": {
    "collapsed": false
   },
   "outputs": [],
   "source": [
    "# This contains the cluster no. given to each row in the dataset\n",
    "#kmeansModel.labels_"
   ]
  },
  {
   "cell_type": "code",
   "execution_count": 47,
   "metadata": {
    "collapsed": false
   },
   "outputs": [],
   "source": [
    "#kmeansModel.predict(X)"
   ]
  },
  {
   "cell_type": "code",
   "execution_count": 48,
   "metadata": {
    "collapsed": false
   },
   "outputs": [],
   "source": [
    "#kmeansModel.cluster_centers_"
   ]
  },
  {
   "cell_type": "code",
   "execution_count": null,
   "metadata": {
    "collapsed": true
   },
   "outputs": [],
   "source": []
  },
  {
   "cell_type": "markdown",
   "metadata": {},
   "source": [
    "# Hierarchial Clustering"
   ]
  },
  {
   "cell_type": "code",
   "execution_count": 49,
   "metadata": {
    "collapsed": true
   },
   "outputs": [],
   "source": [
    "'''\n",
    "The AgglomerativeClustering object performs a hierarchical clustering using a bottom up approach: \n",
    "each observation starts in its own cluster, and clusters are successively merged together.\n",
    "'''\n",
    "from sklearn.cluster import AgglomerativeClustering\n",
    "\n",
    "# We will verify our model against a range of clusters - [2 - 10].\n",
    "# To decide optimal no of clusters i.e. k value\n",
    "k_values = range(2,20,1)\n",
    "\n",
    "sil_score_all = []\n",
    "\n",
    "for k in k_values: \n",
    "    wardHierarModel = AgglomerativeClustering(n_clusters=k, linkage='ward')\n",
    "    wardHierarModel.fit(X)\n",
    "    \n",
    "    # Silhoutte coefficient\n",
    "    sil_score = metrics.silhouette_score(X,wardHierarModel.labels_,metric='euclidean')\n",
    "    sil_score_all.append(sil_score)\n",
    "    "
   ]
  },
  {
   "cell_type": "code",
   "execution_count": 50,
   "metadata": {
    "collapsed": false
   },
   "outputs": [
    {
     "data": {
      "text/plain": [
       "<matplotlib.text.Text at 0x10b23ef0>"
      ]
     },
     "execution_count": 50,
     "metadata": {},
     "output_type": "execute_result"
    },
    {
     "data": {
      "image/png": "[encoded data removed]",
      "text/plain": [
       "<matplotlib.figure.Figure at 0x10982320>"
      ]
     },
     "metadata": {},
     "output_type": "display_data"
    }
   ],
   "source": [
    "plt.plot(k_values,sil_score_all)\n",
    "plt.xlabel(\"K-values\")\n",
    "plt.ylabel(\"Silhouette Score\")"
   ]
  },
  {
   "cell_type": "code",
   "execution_count": null,
   "metadata": {
    "collapsed": true
   },
   "outputs": [],
   "source": []
  },
  {
   "cell_type": "markdown",
   "metadata": {},
   "source": [
    "# DBSCAN Clustering"
   ]
  },
  {
   "cell_type": "code",
   "execution_count": 51,
   "metadata": {
    "collapsed": true
   },
   "outputs": [],
   "source": [
    "\n",
    "# center and scale the data\n",
    "from sklearn.preprocessing import StandardScaler\n",
    "scaler = StandardScaler()\n",
    "X_scaled = scaler.fit_transform(X)"
   ]
  },
  {
   "cell_type": "code",
   "execution_count": 52,
   "metadata": {
    "collapsed": false
   },
   "outputs": [],
   "source": [
    "# DBSCAN with eps=1 and min_samples=3\n",
    "from sklearn.cluster import DBSCAN\n",
    "\n",
    "# We will verify our model against a range of clusters - [2 - 10].\n",
    "# To decide optimal no of clusters i.e. k value\n",
    "k_values = range(2,20,1)\n",
    "\n",
    "#sil_score_all = []\n",
    "\n",
    "dbscanModel = DBSCAN(eps=1,min_samples=3)\n",
    "dbscanModel.fit(X_scaled)\n",
    "    \n",
    "# Silhoutte coefficient\n",
    "sil_score = metrics.silhouette_score(X_scaled,dbscanModel.labels_)\n",
    "#sil_score_all.append(sil_score)"
   ]
  },
  {
   "cell_type": "code",
   "execution_count": 53,
   "metadata": {
    "collapsed": true
   },
   "outputs": [],
   "source": [
    "labels = dbscanModel.labels_\n",
    "\n",
    "# Number of clusters in labels, ignoring noise if present.\n",
    "n_clusters_ = len(set(labels)) #- (1 if -1 in labels else 0)"
   ]
  },
  {
   "cell_type": "code",
   "execution_count": 54,
   "metadata": {
    "collapsed": false
   },
   "outputs": [
    {
     "data": {
      "text/plain": [
       "2"
      ]
     },
     "execution_count": 54,
     "metadata": {},
     "output_type": "execute_result"
    }
   ],
   "source": [
    "n_clusters_\n",
    "#sil_score"
   ]
  },
  {
   "cell_type": "code",
   "execution_count": 55,
   "metadata": {
    "collapsed": false
   },
   "outputs": [
    {
     "data": {
      "text/plain": [
       "array([ 0,  0,  0,  0,  0, -1,  0,  0,  0,  0,  0, -1, -1,  0,  0,  0, -1,\n",
       "        0,  0,  0,  0,  0,  0,  0,  0, -1,  0,  0,  0,  0,  0,  0,  0,  0,\n",
       "       -1,  0, -1, -1,  0,  0, -1,  0,  0, -1,  0,  0,  0,  0,  0, -1,  0,\n",
       "        0,  0,  0,  0,  0,  0,  0], dtype=int64)"
      ]
     },
     "execution_count": 55,
     "metadata": {},
     "output_type": "execute_result"
    }
   ],
   "source": [
    "labels"
   ]
  },
  {
   "cell_type": "code",
   "execution_count": 56,
   "metadata": {
    "collapsed": false
   },
   "outputs": [
    {
     "data": {
      "text/plain": [
       "0.60264402447288956"
      ]
     },
     "execution_count": 56,
     "metadata": {},
     "output_type": "execute_result"
    }
   ],
   "source": [
    "sil_score"
   ]
  },
  {
   "cell_type": "code",
   "execution_count": null,
   "metadata": {
    "collapsed": true
   },
   "outputs": [],
   "source": []
  },
  {
   "cell_type": "markdown",
   "metadata": {},
   "source": [
    "# Comparison"
   ]
  },
  {
   "cell_type": "raw",
   "metadata": {},
   "source": [
    "# As per the above 3 clustering method , we can see , all conform to k=2 clusters\n",
    "So we go ahead and try to cluster the entire Policy data into 2 clusters.\n",
    "\n",
    "Which model to select ?\n",
    "The one with maximum Silhouette score - which is K-means"
   ]
  },
  {
   "cell_type": "code",
   "execution_count": 57,
   "metadata": {
    "collapsed": true
   },
   "outputs": [],
   "source": [
    "kmeansModel = KMeans(n_clusters=2)\n",
    "kmeansModel.fit(X)\n",
    "y_pred = kmeansModel.labels_"
   ]
  },
  {
   "cell_type": "code",
   "execution_count": null,
   "metadata": {
    "collapsed": true
   },
   "outputs": [],
   "source": []
  },
  {
   "cell_type": "markdown",
   "metadata": {},
   "source": [
    "# The Cluster assignment"
   ]
  },
  {
   "cell_type": "code",
   "execution_count": 58,
   "metadata": {
    "collapsed": false
   },
   "outputs": [
    {
     "data": {
      "text/plain": [
       "array([0, 0, 0, 0, 0, 1, 0, 0, 0, 0, 0, 1, 0, 0, 0, 0, 1, 0, 0, 0, 0, 0, 0,\n",
       "       0, 0, 0, 0, 0, 0, 0, 0, 0, 0, 0, 0, 0, 1, 0, 0, 0, 0, 0, 0, 1, 0, 0,\n",
       "       0, 0, 0, 1, 0, 0, 0, 0, 0, 0, 0, 0])"
      ]
     },
     "execution_count": 58,
     "metadata": {},
     "output_type": "execute_result"
    }
   ],
   "source": [
    "# The Cluster assignment for each US State\n",
    "y_pred"
   ]
  },
  {
   "cell_type": "code",
   "execution_count": null,
   "metadata": {
    "collapsed": true
   },
   "outputs": [],
   "source": []
  },
  {
   "cell_type": "markdown",
   "metadata": {},
   "source": [
    "# Visualization"
   ]
  },
  {
   "cell_type": "code",
   "execution_count": 59,
   "metadata": {
    "collapsed": true
   },
   "outputs": [],
   "source": [
    "# Lets visualize the clusters"
   ]
  },
  {
   "cell_type": "code",
   "execution_count": 60,
   "metadata": {
    "collapsed": false
   },
   "outputs": [
    {
     "data": {
      "text/html": [
       "<div>\n",
       "<table border=\"1\" class=\"dataframe\">\n",
       "  <thead>\n",
       "    <tr style=\"text-align: right;\">\n",
       "      <th></th>\n",
       "      <th>STATE</th>\n",
       "      <th>NationalServiceLifeInsurance</th>\n",
       "      <th>Service-DisabledVeteransInsurance</th>\n",
       "      <th>UnitedStatesGovernmentLifeInsurance</th>\n",
       "      <th>VeteransMortgageLifeInsurance</th>\n",
       "      <th>VeteransReopenedInsurance</th>\n",
       "      <th>VeteransSpecialLifeInsurance</th>\n",
       "    </tr>\n",
       "  </thead>\n",
       "  <tbody>\n",
       "    <tr>\n",
       "      <th>0</th>\n",
       "      <td>Alabama</td>\n",
       "      <td>107706116</td>\n",
       "      <td>58178149</td>\n",
       "      <td>86000</td>\n",
       "      <td>3117592</td>\n",
       "      <td>2893710</td>\n",
       "      <td>23641639</td>\n",
       "    </tr>\n",
       "    <tr>\n",
       "      <th>1</th>\n",
       "      <td>Alaska</td>\n",
       "      <td>11580784</td>\n",
       "      <td>4529500</td>\n",
       "      <td>6000</td>\n",
       "      <td>180000</td>\n",
       "      <td>202746</td>\n",
       "      <td>2734900</td>\n",
       "    </tr>\n",
       "    <tr>\n",
       "      <th>2</th>\n",
       "      <td>American Samoa</td>\n",
       "      <td>5000</td>\n",
       "      <td>1190000</td>\n",
       "      <td>0</td>\n",
       "      <td>0</td>\n",
       "      <td>0</td>\n",
       "      <td>43375</td>\n",
       "    </tr>\n",
       "  </tbody>\n",
       "</table>\n",
       "</div>"
      ],
      "text/plain": [
       "            STATE NationalServiceLifeInsurance  \\\n",
       "0         Alabama                    107706116   \n",
       "1          Alaska                     11580784   \n",
       "2  American Samoa                         5000   \n",
       "\n",
       "  Service-DisabledVeteransInsurance UnitedStatesGovernmentLifeInsurance  \\\n",
       "0                          58178149                               86000   \n",
       "1                           4529500                                6000   \n",
       "2                           1190000                                   0   \n",
       "\n",
       "  VeteransMortgageLifeInsurance VeteransReopenedInsurance  \\\n",
       "0                       3117592                   2893710   \n",
       "1                        180000                    202746   \n",
       "2                             0                         0   \n",
       "\n",
       "  VeteransSpecialLifeInsurance  \n",
       "0                     23641639  \n",
       "1                      2734900  \n",
       "2                        43375  "
      ]
     },
     "execution_count": 60,
     "metadata": {},
     "output_type": "execute_result"
    }
   ],
   "source": [
    "# remove \"Total\" column . It contains total of each row values.\n",
    "data_X = data.drop('Total',axis=1)\n",
    "\n",
    "# remove the last row - \"Total\". This row contains total of individual columns.\n",
    "data_X = data_X.drop(58,axis=0)\n",
    "\n",
    "data_X.head(3)"
   ]
  },
  {
   "cell_type": "code",
   "execution_count": 61,
   "metadata": {
    "collapsed": false
   },
   "outputs": [],
   "source": [
    "colors = np.array(['r','y'])\n",
    "#data.head(2)\n",
    "\n",
    "x1 = data_X[\"NationalServiceLifeInsurance\"].values.astype(np.float)\n",
    "x2 = data_X[\"Service-DisabledVeteransInsurance\"].values.astype(np.float)\n",
    "x3 = data_X[\"UnitedStatesGovernmentLifeInsurance\"].values.astype(np.float)"
   ]
  },
  {
   "cell_type": "code",
   "execution_count": null,
   "metadata": {
    "collapsed": false
   },
   "outputs": [],
   "source": []
  },
  {
   "cell_type": "code",
   "execution_count": 62,
   "metadata": {
    "collapsed": false
   },
   "outputs": [
    {
     "data": {
      "text/plain": [
       "<matplotlib.text.Text at 0x11004518>"
      ]
     },
     "execution_count": 62,
     "metadata": {},
     "output_type": "execute_result"
    },
    {
     "data": {
      "text/plain": [
       "<matplotlib.figure.Figure at 0xd39d6a0>"
      ]
     },
     "metadata": {},
     "output_type": "display_data"
    },
    {
     "data": {
      "image/png": "[encoded data removed]",
      "text/plain": [
       "<matplotlib.figure.Figure at 0x10c49908>"
      ]
     },
     "metadata": {},
     "output_type": "display_data"
    }
   ],
   "source": [
    "from mpl_toolkits.mplot3d import Axes3D\n",
    "\n",
    "plt.suptitle('3d plot', fontsize=15)\n",
    "\n",
    "ax = Axes3D(plt.figure(figsize=(10, 9)), rect=[.01, 0, 0.95, 1], elev=35, azim=135)\n",
    "ax.scatter(x1[:], x2[:], x3[:], c = colors[y_pred], s=120)\n",
    "\n",
    "ax.set_xlabel('NationalServiceLifeInsurance')\n",
    "ax.set_ylabel('Service-DisabledVeteransInsurance')\n",
    "ax.set_zlabel('UnitedStatesGovernmentLifeInsurance')\n"
   ]
  },
  {
   "cell_type": "code",
   "execution_count": null,
   "metadata": {
    "collapsed": true
   },
   "outputs": [],
   "source": []
  },
  {
   "cell_type": "code",
   "execution_count": 63,
   "metadata": {
    "collapsed": true
   },
   "outputs": [],
   "source": [
    "import matplotlib.pyplot as plt\n",
    "\n",
    "%matplotlib inline"
   ]
  },
  {
   "cell_type": "code",
   "execution_count": 64,
   "metadata": {
    "collapsed": false
   },
   "outputs": [
    {
     "data": {
      "image/png": "[encoded data removed]",
      "text/plain": [
       "<matplotlib.figure.Figure at 0x10dd9080>"
      ]
     },
     "metadata": {},
     "output_type": "display_data"
    }
   ],
   "source": [
    "# Option #1: Scatter Plot Grid\n",
    "plt.figure(figsize=(8, 8))\n",
    "plt.suptitle('Scatter Plot Grid',  fontsize=14)\n",
    "\n",
    "# Upper Left\n",
    "plt.subplot(221)   # GridTotalNoOfRows, GridTotalNoOfColumns, plot_position\n",
    "plt.scatter(x1[:], x2[:], c = colors[y_pred])\n",
    "plt.ylabel(\"Service-DisabledVeteransInsurance\")\n",
    "\n",
    "\n",
    "# Lower Left\n",
    "plt.subplot(223)\n",
    "plt.scatter(x1[:], x3[:], c = colors[y_pred])\n",
    "plt.ylabel(\"UnitedStatesGovernmentLifeInsurance\")\n",
    "plt.xlabel(\"NationalServiceLifeInsurance\")\n",
    "\n",
    "\n",
    "\n",
    "# Upper Right\n",
    "plt.subplot(222)\n",
    "plt.scatter(x3[:], x2[:], c = colors[y_pred])\n",
    "\n",
    "\n",
    "\n",
    "# Lower Right\n",
    "plt.subplot(224)\n",
    "plt.scatter(x3[:], x1[:], c = colors[y_pred])\n",
    "\n",
    "plt.show()\n"
   ]
  },
  {
   "cell_type": "code",
   "execution_count": null,
   "metadata": {
    "collapsed": false
   },
   "outputs": [],
   "source": []
  }
 ],
 "metadata": {
  "kernelspec": {
   "display_name": "Python 2",
   "language": "python",
   "name": "python2"
  },
  "language_info": {
   "codemirror_mode": {
    "name": "ipython",
    "version": 2
   },
   "file_extension": ".py",
   "mimetype": "text/x-python",
   "name": "python",
   "nbconvert_exporter": "python",
   "pygments_lexer": "ipython2",
   "version": "2.7.10"
  }
 },
 "nbformat": 4,
 "nbformat_minor": 0
}
